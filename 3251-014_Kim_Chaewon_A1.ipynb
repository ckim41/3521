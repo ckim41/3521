{
 "cells": [
  {
   "cell_type": "markdown",
   "metadata": {},
   "source": [
    "## Assignment 1\n",
    "\n",
    "**Background**: \n",
    "\n",
    "\" There is a serious lack of empirical evidence describing how diet affects human attractiveness to disease vectors. While one study suggested that people are more attractive to laboratory bred Aedes mosquitoes after beer consumption the effect of beer consumption on attractiveness to malaria mosquitoes from natural populations remains untested. As alcohol consumption is rising in most endemic malaria areas, it is becoming urgent to assess its effects on human attractiveness to malaria vectors.\"\n",
    "\n",
    "<li> Number of volunteers that were assigned to drink beer were: 25 \n",
    "<li> Number of volunteers that were assigned to drink water were: 18\n",
    "\n",
    "-http://journals.plos.org/plosone/article?id=10.1371/journal.pone.0009546\n",
    "### Using the dataset mosquitos_data.csv from the video, write Python code:"
   ]
  },
  {
   "cell_type": "code",
   "execution_count": 1,
   "metadata": {
    "collapsed": true
   },
   "outputs": [],
   "source": [
    "%matplotlib inline\n",
    "import matplotlib.pyplot as plt \n",
    "\n",
    "import numpy as np\n",
    "np.random.seed(123)\n",
    "import pandas as pd\n",
    "import statistics\n",
    "pd.options.display.max_rows = 10"
   ]
  },
  {
   "cell_type": "code",
   "execution_count": 3,
   "metadata": {},
   "outputs": [
    {
     "data": {
      "text/html": [
       "<div>\n",
       "<style>\n",
       "    .dataframe thead tr:only-child th {\n",
       "        text-align: right;\n",
       "    }\n",
       "\n",
       "    .dataframe thead th {\n",
       "        text-align: left;\n",
       "    }\n",
       "\n",
       "    .dataframe tbody tr th {\n",
       "        vertical-align: top;\n",
       "    }\n",
       "</style>\n",
       "<table border=\"1\" class=\"dataframe\">\n",
       "  <thead>\n",
       "    <tr style=\"text-align: right;\">\n",
       "      <th></th>\n",
       "      <th>Response</th>\n",
       "      <th>Treatment</th>\n",
       "    </tr>\n",
       "  </thead>\n",
       "  <tbody>\n",
       "    <tr>\n",
       "      <th>0</th>\n",
       "      <td>27</td>\n",
       "      <td>Beer</td>\n",
       "    </tr>\n",
       "    <tr>\n",
       "      <th>1</th>\n",
       "      <td>20</td>\n",
       "      <td>Beer</td>\n",
       "    </tr>\n",
       "    <tr>\n",
       "      <th>2</th>\n",
       "      <td>21</td>\n",
       "      <td>Beer</td>\n",
       "    </tr>\n",
       "    <tr>\n",
       "      <th>3</th>\n",
       "      <td>26</td>\n",
       "      <td>Beer</td>\n",
       "    </tr>\n",
       "    <tr>\n",
       "      <th>4</th>\n",
       "      <td>27</td>\n",
       "      <td>Beer</td>\n",
       "    </tr>\n",
       "    <tr>\n",
       "      <th>...</th>\n",
       "      <td>...</td>\n",
       "      <td>...</td>\n",
       "    </tr>\n",
       "    <tr>\n",
       "      <th>38</th>\n",
       "      <td>22</td>\n",
       "      <td>Water</td>\n",
       "    </tr>\n",
       "    <tr>\n",
       "      <th>39</th>\n",
       "      <td>20</td>\n",
       "      <td>Water</td>\n",
       "    </tr>\n",
       "    <tr>\n",
       "      <th>40</th>\n",
       "      <td>24</td>\n",
       "      <td>Water</td>\n",
       "    </tr>\n",
       "    <tr>\n",
       "      <th>41</th>\n",
       "      <td>18</td>\n",
       "      <td>Water</td>\n",
       "    </tr>\n",
       "    <tr>\n",
       "      <th>42</th>\n",
       "      <td>20</td>\n",
       "      <td>Water</td>\n",
       "    </tr>\n",
       "  </tbody>\n",
       "</table>\n",
       "<p>43 rows × 2 columns</p>\n",
       "</div>"
      ],
      "text/plain": [
       "    Response Treatment\n",
       "0         27      Beer\n",
       "1         20      Beer\n",
       "2         21      Beer\n",
       "3         26      Beer\n",
       "4         27      Beer\n",
       "..       ...       ...\n",
       "38        22     Water\n",
       "39        20     Water\n",
       "40        24     Water\n",
       "41        18     Water\n",
       "42        20     Water\n",
       "\n",
       "[43 rows x 2 columns]"
      ]
     },
     "execution_count": 3,
     "metadata": {},
     "output_type": "execute_result"
    }
   ],
   "source": [
    "#reading data into a DataFrame\n",
    "df = pd.read_csv('mosquitos_data.csv')\n",
    "df"
   ]
  },
  {
   "cell_type": "markdown",
   "metadata": {},
   "source": [
    "** Create side-by-side boxplots for the number of mosquitos in each group (Beer vs Water) **"
   ]
  },
  {
   "cell_type": "code",
   "execution_count": 4,
   "metadata": {
    "scrolled": false
   },
   "outputs": [
    {
     "name": "stderr",
     "output_type": "stream",
     "text": [
      "/Users/kimchaewon/anaconda3/lib/python3.6/site-packages/numpy/core/fromnumeric.py:57: FutureWarning: reshape is deprecated and will raise in a subsequent release. Please use .values.reshape(...) instead\n",
      "  return getattr(obj, method)(*args, **kwds)\n"
     ]
    },
    {
     "data": {
      "text/plain": [
       "Text(0,0.5,'Number of mosquitos attracted')"
      ]
     },
     "execution_count": 4,
     "metadata": {},
     "output_type": "execute_result"
    },
    {
     "data": {
      "image/png": "[encoded data removed]",
      "text/plain": [
       "<matplotlib.figure.Figure at 0x10eee0f28>"
      ]
     },
     "metadata": {},
     "output_type": "display_data"
    }
   ],
   "source": [
    "df.boxplot(by='Treatment',figsize=(8,6))\n",
    "plt.title('Number of Mosquitos attracted in each Group (Beer vs Water)')\n",
    "plt.ylabel('Number of mosquitos attracted')"
   ]
  },
  {
   "cell_type": "markdown",
   "metadata": {},
   "source": [
    "** What does the graph reveal about the data for both groups?**\n",
    "\n",
    " A box plot summarizes a data set using five statistics: the **median, interquartile range (IQR), first quartile (Q1), third quartile (Q3) and whiskers**.  \n",
    " \n",
    " <li>The median is the number in the middle when the results are ordered from smallest to largest. In the box plots above, it is denoted by the green line: 50% of the data falling below the median and other 50% falling above the median. \n",
    " <li>The inter quartile range (IQR) is the total length of the ,\"box\", rectangle to represent the middle 50% of the data. The more variable the data, the larger the IQR. \n",
    " <li>The two boundaries of the box are called the first quartile (the 25th percentile, i.e. 25% of the data fall below this value) and the third quartile (the 75th percentile). \n",
    " <li>The whiskers attempt to capture the data outside of the box, however, their reach is never allowed to be more than 1.5 X IQR.\n",
    " \n",
    " Firstly, when we look at the two box plots above, we notice that the median (green line) for the treatment group that were assigned to drink beer is higher than that of those who drank water. Secondly, we can observe that the IQR box for the treatment group 'Beer' is located higher than the IQR box for the treatment group 'Water' as well as it is longer. Thus, both the first quartile and the third quartile values for the treatment group 'Beer' are higher than that of treatment group 'Water'. The whiskers represent the extent of range of the results and we can see that for the treatment group 'Beer', the minimum number of mosquitos attracted were approximately 17,and the maximum number of mosquitos attracted were 31. On the other hand, the minimum number of mosquitos attracted for the treatment group 'Water' was 12 and the maximum value was 24 respectively. \n",
    " \n",
    " "
   ]
  },
  {
   "cell_type": "markdown",
   "metadata": {},
   "source": [
    "**Is there an association between beer consumption and attractiveness to mosquitos?**\n",
    "\n",
    "By looking at the box plots above, we can see an association between beer consumption and attractiveness to mosquitos: overall, body odours of volunteers who consumed beer tend to increase their attractiveness to mosquitos. Thus, we can say that there is a positive association between beer consumption and attractiveness to mosquitos. "
   ]
  },
  {
   "cell_type": "markdown",
   "metadata": {},
   "source": [
    "**Calculate basic statistics measures for each group: the mean, median, standard deviation – Explain the numbers**"
   ]
  },
  {
   "cell_type": "code",
   "execution_count": 5,
   "metadata": {},
   "outputs": [
    {
     "name": "stdout",
     "output_type": "stream",
     "text": [
      "The mean for each group is: \n",
      "             Response\n",
      "Treatment           \n",
      "Beer       23.600000\n",
      "Water      19.222222\n"
     ]
    }
   ],
   "source": [
    "df_stats=df.groupby('Treatment')\n",
    "df_stats\n",
    "print('The mean for each group is: \\n', df_stats.mean())"
   ]
  },
  {
   "cell_type": "markdown",
   "metadata": {},
   "source": [
    "The mean, is a common way to measure the center of a distribution of data. In this experiment, the mean represents the average number of mosquitos attracted by volunteers that consumed either beer or water. The average number of mosquitos attracted by volunteers who drank beer is 23.6 while who drank water is 19.2 respectively. "
   ]
  },
  {
   "cell_type": "code",
   "execution_count": 6,
   "metadata": {},
   "outputs": [
    {
     "name": "stdout",
     "output_type": "stream",
     "text": [
      "The median for each group is: \n",
      "            Response\n",
      "Treatment          \n",
      "Beer             24\n",
      "Water            20\n"
     ]
    }
   ],
   "source": [
    "print('The median for each group is: \\n', df_stats.median())"
   ]
  },
  {
   "cell_type": "markdown",
   "metadata": {},
   "source": [
    "As mentioned above, the median is the number in the middle when the results are ordered from smallest to largest : 50% of the data falling below the median and other 50% falling above the median. When there are an odd number of observations, there will be exactly one observation that splits the data into two halves, and in such a case that observation is the median (no average needed). However, if there are an even number of observations, there will be two values in the middle, and the median is taken as their average. In this experiment, the median for the group of volunteers that drank beer attracted 24 mosquitos and the median for the group of volunteers that drank water attracted 20 mosquitos. \n"
   ]
  },
  {
   "cell_type": "code",
   "execution_count": 7,
   "metadata": {},
   "outputs": [
    {
     "name": "stdout",
     "output_type": "stream",
     "text": [
      "The standard deviation for each group is: \n",
      "            Response\n",
      "Treatment          \n",
      "Beer       4.133199\n",
      "Water      3.671120\n"
     ]
    }
   ],
   "source": [
    "print('The standard deviation for each group is: \\n', df_stats.std())\n"
   ]
  },
  {
   "cell_type": "markdown",
   "metadata": {
    "collapsed": true
   },
   "source": [
    "The standard deviation roughly describes how far away the observation is from the mean and it is useful when considering how close the data are to the mean. In this experiment, most observations for the treatment group that drank Beer fall within roughly 4.1 mosquitos from the mean and 3.6 respectively for the group that drank water."
   ]
  },
  {
   "cell_type": "markdown",
   "metadata": {},
   "source": [
    "### Write the code to implement the data simulation demonstrated in the video"
   ]
  },
  {
   "cell_type": "code",
   "execution_count": 8,
   "metadata": {},
   "outputs": [
    {
     "data": {
      "text/plain": [
       "Response    4.377778\n",
       "dtype: float64"
      ]
     },
     "execution_count": 8,
     "metadata": {},
     "output_type": "execute_result"
    }
   ],
   "source": [
    "g_mean = df_stats.mean()\n",
    "#Calculate the difference of mean between the two groups\n",
    "df_mean=g_mean.iloc[0]-g_mean.iloc[1]\n",
    "df_mean"
   ]
  },
  {
   "cell_type": "code",
   "execution_count": 12,
   "metadata": {},
   "outputs": [
    {
     "data": {
      "text/plain": [
       "<matplotlib.collections.LineCollection at 0x1174ddc50>"
      ]
     },
     "execution_count": 12,
     "metadata": {},
     "output_type": "execute_result"
    },
    {
     "data": {
      "image/png": "[encoded data removed]",
      "text/plain": [
       "<matplotlib.figure.Figure at 0x117285be0>"
      ]
     },
     "metadata": {},
     "output_type": "display_data"
    }
   ],
   "source": [
    "#Create a list that will contain results of 43 permutations (18 Water& 25 Beer) of difference of mean by running 10,000 iterations\n",
    "a=[]\n",
    "for i in range (10000):\n",
    "    p=np.random.permutation(43)\n",
    "    d=df.iloc[p[:25]].Response.mean()-df.iloc[p[-18:]].Response.mean()\n",
    "    a.append(d)\n",
    "pd.Series(a).plot.hist()\n",
    "plt.grid()\n",
    "plt.vlines(df_mean,ymin=0,ymax=3000,color='y')"
   ]
  },
  {
   "cell_type": "markdown",
   "metadata": {},
   "source": [
    "We can see that the mean difference of 4.37 (rounded to 4.4 in the video) is rare and despite individual volunteer variation, beer consumption consistently increased attractiveness to mosquitos."
   ]
  },
  {
   "cell_type": "code",
   "execution_count": null,
   "metadata": {
    "collapsed": true
   },
   "outputs": [],
   "source": []
  }
 ],
 "metadata": {
  "kernelspec": {
   "display_name": "Python 3",
   "language": "python",
   "name": "python3"
  },
  "language_info": {
   "codemirror_mode": {
    "name": "ipython",
    "version": 3
   },
   "file_extension": ".py",
   "mimetype": "text/x-python",
   "name": "python",
   "nbconvert_exporter": "python",
   "pygments_lexer": "ipython3",
   "version": "3.6.3"
  }
 },
 "nbformat": 4,
 "nbformat_minor": 2
}
